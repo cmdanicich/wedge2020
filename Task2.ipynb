{
 "cells": [
  {
   "cell_type": "code",
   "execution_count": 6,
   "metadata": {},
   "outputs": [],
   "source": [
    "import os\n",
    "\n",
    "import io\n",
    "\n",
    "import csv \n",
    "\n",
    "from zipfile import ZipFile\n",
    "\n",
    "import glob \n",
    "\n",
    "import random \n",
    "\n",
    "from google.cloud import bigquery\n",
    "\n",
    "from google.oauth2 import service_account\n",
    "\n",
    "import sqlite3"
   ]
  },
  {
   "cell_type": "code",
   "execution_count": 7,
   "metadata": {},
   "outputs": [],
   "source": [
    "# Authentication: these keys will be different on your device, must change to run your own code. \n",
    "# Path to connect to GBQ\n",
    "\n",
    "service_path = \"/Users/clairedanicich/Desktop/ADA/wedge/wedge2020/\"\n",
    "service_file = \"MSBA-cfc85a1b18d5.json\"\n",
    "gbq_proj_id = \"msba-291619\"\n",
    "gbq_dataset_id = \"wedge2\"\n",
    "\n",
    "privatekey = service_path + service_file\n",
    "\n",
    "# Pass in credentials\n",
    "credentials = service_account.Credentials.from_service_account_file(service_path + service_file)\n",
    "\n",
    "# Establish connection\n",
    "client = bigquery.Client(credentials = credentials, project=gbq_proj_id)"
   ]
  },
  {
   "cell_type": "code",
   "execution_count": 8,
   "metadata": {},
   "outputs": [],
   "source": [
    "#This is the GBQ query used to pull Owners\n",
    "query = (\"Select Distinct card_no,\"\n",
    "\"From `msba-291619.wedge2.transArchive*`\"\n",
    "\"Where card_no !=3\"\n",
    ")\n",
    "\n",
    "# Execute using `client.query`\n",
    "query_job = client.query(query,location = \"US\",)"
   ]
  },
  {
   "cell_type": "code",
   "execution_count": 9,
   "metadata": {},
   "outputs": [],
   "source": [
    "# Create a list with the distinct Owners from GBQ tables\n",
    "owners = []\n",
    "\n",
    "for idx, row in enumerate(query_job): \n",
    "    #since row in GBQ is a tuple, you need to place []\n",
    "    card_no = row[0] \n",
    "    \n",
    "    owners.append(card_no)"
   ]
  },
  {
   "cell_type": "code",
   "execution_count": 14,
   "metadata": {},
   "outputs": [],
   "source": [
    "# Pull random sample of 300 owners\n",
    "random.seed(20201021)#start random generator at same spot\n",
    "owner_sample = random.choices(owners,k=300) #random list of owners"
   ]
  },
  {
   "cell_type": "code",
   "execution_count": 25,
   "metadata": {},
   "outputs": [],
   "source": [
    "# Run list comprehension to utilize the random sample of owners and pull the data\n",
    "query = \"\"\"Select * From `msba-291619.wedge2.transArchive*` Where card_no in (\"\"\"\n",
    "\n",
    "query = query + \",\".join([str(owner) for owner in owner_sample]) + \")\"\n",
    "\n",
    "query_job = client.query(query,location = \"US\",)"
   ]
  },
  {
   "cell_type": "code",
   "execution_count": 26,
   "metadata": {},
   "outputs": [],
   "source": [
    "#header names\n",
    "headers = [\"datetime\",\"register_no\",\"emp_no\",\"trans_no\",\"upc\",\"description\",\"trans_type\",\"trans_subtype\",\n",
    "           \"trans_status\",\"department\",\"quantity\",\"Scale\",\"cost\",\"unitPrice\",\"total\",\"regPrice\",\"altPrice\",\"tax\",\n",
    "           \"taxexempt\",\"foodstamp\",\"wicable\",\"discount\",\"memDiscount\",\"discountable\",\"discounttype\",\"voided\",\n",
    "           \"percentDiscount\",\"ItemQtty\",\"volDiscType\",\"volume\",\"VolSpecial\",\"mixMatch\",\"matched\",\"memType\",\"staff\",\n",
    "           \"numflag\",\"itemstatus\",\"tenderstatus\",\"charflag\",\"varflag\",\"batchHeaderID\",\"local\",\"organic\",\"display\",\n",
    "           \"receipt\",\"card_no\",\"store\",\"branch\",\"match_id\",\"trans_id\"]"
   ]
  },
  {
   "cell_type": "code",
   "execution_count": 27,
   "metadata": {},
   "outputs": [],
   "source": [
    "# Write outfiles\n",
    "with open(\"owner_query.txt\", \"w\") as outfile: \n",
    "    # Join the headers to the new outfile \n",
    "    outfile.write(\",\".join(headers) + \"\\n\")\n",
    "    for row in query_job: \n",
    "        outfile.write(\",\".join([str(item) for item in row])+\"\\n\")"
   ]
  },
  {
   "cell_type": "code",
   "execution_count": null,
   "metadata": {},
   "outputs": [],
   "source": []
  }
 ],
 "metadata": {
  "kernelspec": {
   "display_name": "Python 3",
   "language": "python",
   "name": "python3"
  },
  "language_info": {
   "codemirror_mode": {
    "name": "ipython",
    "version": 3
   },
   "file_extension": ".py",
   "mimetype": "text/x-python",
   "name": "python",
   "nbconvert_exporter": "python",
   "pygments_lexer": "ipython3",
   "version": "3.8.3"
  }
 },
 "nbformat": 4,
 "nbformat_minor": 4
}
